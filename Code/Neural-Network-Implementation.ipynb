{
 "cells": [
  {
   "cell_type": "code",
   "execution_count": 42,
   "metadata": {},
   "outputs": [],
   "source": [
    "# CS3610 Backpropagation Assignment by Anosan J - 200040B"
   ]
  },
  {
   "cell_type": "code",
   "execution_count": 43,
   "metadata": {},
   "outputs": [],
   "source": [
    "import numpy as np\n",
    "import pandas as pd"
   ]
  },
  {
   "cell_type": "code",
   "execution_count": 44,
   "metadata": {},
   "outputs": [],
   "source": [
    "def load_weights(layer_dims, path):\n",
    "    # Initialize a list to hold the reshaped weights for each layer\n",
    "    reshaped_weights = []\n",
    "\n",
    "    # Start index for extracting weights from the CSV\n",
    "    start_idx = 0\n",
    "\n",
    "    # Iterate through layers_dims to reshape and assign the weights\n",
    "    for i in range(1, len(layers_dims)):\n",
    "        # Determine the number of input and output units for this layer\n",
    "        input_units = layers_dims[i-1]\n",
    "        output_units = layers_dims[i]\n",
    "\n",
    "        # Extract the relevant rows for this layer\n",
    "        layer_weights = np.genfromtxt(path, delimiter=',', \n",
    "                                    usecols=range(1, 1 + output_units), \n",
    "                                    skip_header=start_idx, max_rows=input_units)\n",
    "        \n",
    "        # Append the reshaped weights to the list\n",
    "        reshaped_weights.append(layer_weights)\n",
    "\n",
    "        # Update the start index for the next layer\n",
    "        start_idx += input_units\n",
    "\n",
    "    # Convert the list of reshaped weights to a tuple\n",
    "    reshaped_weights = tuple(reshaped_weights)\n",
    "    return reshaped_weights"
   ]
  },
  {
   "cell_type": "code",
   "execution_count": 45,
   "metadata": {},
   "outputs": [],
   "source": [
    "def load_biases(layer_dims, path):\n",
    "\n",
    "    # Initialize a list to hold the reshaped biases for each layer\n",
    "    reshaped_biases = []\n",
    "\n",
    "    # Start index for extracting biases from the CSV\n",
    "    start_idx = 0\n",
    "\n",
    "    # Iterate through layers_dims to reshape and assign the biases\n",
    "    for i in range(1, len(layers_dims)):\n",
    "        # Determine the number of output units for this layer\n",
    "        output_units = layers_dims[i]\n",
    "\n",
    "        # Extract the relevant columns for this layer (bias values)\n",
    "        layer_biases = np.genfromtxt(path, delimiter=',', \n",
    "                                    usecols=range(1, 1 + output_units),\n",
    "                                    skip_header=start_idx, max_rows=1)\n",
    "        \n",
    "        # Append the bias values to the list\n",
    "        reshaped_biases.append(layer_biases)\n",
    "\n",
    "        # Update the start index for the next layer\n",
    "        start_idx += 1\n",
    "\n",
    "    # Convert the list of reshaped biases to a tuple\n",
    "    reshaped_biases = tuple(reshaped_biases)\n",
    "    return reshaped_biases"
   ]
  },
  {
   "cell_type": "code",
   "execution_count": 46,
   "metadata": {},
   "outputs": [],
   "source": [
    "# reshaped_weights = load_weights(layers_dims, './Assignment_1/Task_1/a/w.csv')\n",
    "# reshaped_biases = load_biases(layers_dims, './Assignment_1/Task_1/a/b.csv')\n",
    "def print_loaded(weights, biases):\n",
    "\n",
    "    # Print the reshaped weights for each layer\n",
    "    for i, weights in enumerate(weights):\n",
    "        print(f\"Shape of Weights for Layer {i + 1}:\")\n",
    "        print(weights.shape)\n",
    "        print(\"\\n\")\n",
    "        print(f\"Weights for Layer {i + 1}:\")\n",
    "        print(weights)\n",
    "        print(\"\\n\")\n",
    "\n",
    "    # Print the reshaped biases for each layer\n",
    "    for i, biases in enumerate(biases):\n",
    "        print(f\"Shape of Biases for Layer {i + 1}:\")\n",
    "        print(biases.shape)\n",
    "        print(\"\\n\")\n",
    "        print(f\"Biases for Layer {i + 1}:\")\n",
    "        print(biases)\n",
    "        print(\"\\n\")\n",
    "    \n",
    "    return"
   ]
  },
  {
   "cell_type": "code",
   "execution_count": 47,
   "metadata": {},
   "outputs": [],
   "source": [
    "# Define the softmax function\n",
    "def softmax(x):\n",
    "    exp_x = np.exp(x - np.max(x))  # Subtract max for numerical stability\n",
    "    return exp_x / exp_x.sum(axis=0, keepdims=True)\n",
    "\n",
    "# Define activation functions\n",
    "def relu(x):\n",
    "    return np.maximum(0, x)"
   ]
  },
  {
   "cell_type": "code",
   "execution_count": 48,
   "metadata": {},
   "outputs": [],
   "source": [
    "# Forward Pass Function\n",
    "def forward_pass(data_point, weights, biases):\n",
    "    num_layers = len(weights)\n",
    "    \n",
    "    # Initialize activations\n",
    "    activations = [data_point.astype(np.float32)]\n",
    "    \n",
    "    # Forward pass through layers\n",
    "    for layer in range(num_layers - 1):\n",
    "        z = np.dot(activations[-1], weights[layer].astype(np.float32)) + biases[layer].astype(np.float32)\n",
    "        a = relu(z)\n",
    "        activations.append(a)\n",
    "    \n",
    "    # Last layer with softmax activation\n",
    "    z_final = np.dot(activations[-1], weights[-1].astype(np.float32)) + biases[-1].astype(np.float32)\n",
    "    a_final = softmax(z_final.T)\n",
    "    activations.append(a_final)\n",
    "    \n",
    "    return activations"
   ]
  },
  {
   "cell_type": "code",
   "execution_count": 49,
   "metadata": {},
   "outputs": [],
   "source": [
    "# Backward Pass Function\n",
    "def backward_pass(activations, label_onehot, weights, biases):\n",
    "    num_layers = len(weights)\n",
    "    grads = []\n",
    "\n",
    "    # Calculate gradient for the last layer\n",
    "    grad_a = activations[-1].T - label_onehot\n",
    "    grad_z = grad_a  # Gradient of the loss with respect to the pre-activation of the output layer\n",
    "    grad_W = np.dot(grad_z.T, activations[-2])  # Gradient of the loss with respect to weights\n",
    "    grad_B = np.sum(grad_z.T, axis=1, keepdims=True)  # Gradient of the loss with respect to biases\n",
    "    grads.append((grad_W, grad_B))\n",
    "\n",
    "    # Backpropagate through hidden layers\n",
    "    for layer in range(num_layers - 2, -1, -1):\n",
    "        grad_a = np.dot(weights[layer + 1], grad_z.T)\n",
    "        grad_z = grad_a.T * (activations[layer + 1] > 0)\n",
    "        grad_W = np.dot(grad_z.T, activations[layer])\n",
    "        grad_B = np.sum(grad_z.T, axis=1, keepdims=True)\n",
    "        grads.append((grad_W, grad_B))\n",
    "    \n",
    "    # Reverse the list of gradients for consistency\n",
    "    grads = list(reversed(grads))\n",
    "\n",
    "    return grads"
   ]
  },
  {
   "cell_type": "code",
   "execution_count": 50,
   "metadata": {},
   "outputs": [],
   "source": [
    "# Calculate the loss (cross-entropy)\n",
    "# loss = -np.log(a2[label[0]])  # Assuming label[0] is the correct class, and label_onehot was created correctly"
   ]
  },
  {
   "cell_type": "code",
   "execution_count": 51,
   "metadata": {},
   "outputs": [],
   "source": [
    "def save_file(grads, output_gradient, output_bias):\n",
    "    # Iterate through gradients and save them to the same CSV file\n",
    "    for index, grad in enumerate(grads):\n",
    "        grad_W = grad[0]\n",
    "        grad_result = pd.DataFrame(grad_W.T)\n",
    "        if index==0:\n",
    "            grad_result.to_csv(output_gradient, index=False, header=False)\n",
    "        else:\n",
    "            grad_result.to_csv(output_gradient, mode='a', index=False, header=False)\n",
    "    \n",
    "    # Iterate through gradients and save them to the same CSV file\n",
    "    for index, grad in enumerate(grads):\n",
    "        grad_W = grad[1]\n",
    "        grad_result = pd.DataFrame(grad_W.T)\n",
    "        if index==0:\n",
    "            grad_result.to_csv(output_bias, index=False, header=False)\n",
    "        else:\n",
    "            grad_result.to_csv(output_bias, mode='a', index=False, header=False)"
   ]
  },
  {
   "cell_type": "code",
   "execution_count": 52,
   "metadata": {},
   "outputs": [],
   "source": [
    "# Input data\n",
    "data_point= np.array([-1, 1, 1, 1, -1, -1, 1, -1, 1, 1, -1, -1, 1, 1]).reshape(-1, 14).astype(np.float32)\n",
    "\n",
    "# One-hot encoded label\n",
    "label = np.array([3]).reshape(-1, 1)\n",
    "label_onehot = np.eye(4)[label.reshape(-1)].astype(np.float32)  # One-hot encoding of label 3"
   ]
  },
  {
   "cell_type": "code",
   "execution_count": 53,
   "metadata": {},
   "outputs": [],
   "source": [
    "# Define the layers dimensions\n",
    "layers_dims = [14, 100, 40, 4]\n",
    "\n",
    "weights = load_weights(layers_dims, './Assignment_1/Task_1/a/w.csv')\n",
    "biases = load_biases(layers_dims, './Assignment_1/Task_1/a/b.csv')\n",
    "\n",
    "activations = forward_pass(data_point, weights, biases)\n",
    "grads = backward_pass(activations, label_onehot, weights, biases)\n",
    "# Define the output file path\n",
    "output_gradient = './Assignment_1/Answer/dw.csv'\n",
    "# Define the output file path\n",
    "output_bias = './Assignment_1/Answer/db.csv'\n",
    "\n",
    "save_file(grads, output_gradient, output_bias)"
   ]
  },
  {
   "cell_type": "code",
   "execution_count": 54,
   "metadata": {},
   "outputs": [],
   "source": [
    "def run(layer_dims, file_path):\n",
    "        \n",
    "    weights = load_weights(layers_dims, './Assignment_1/Task_1/b/w-' + file_path)\n",
    "    biases = load_biases(layers_dims, './Assignment_1/Task_1/b/b-' + file_path)\n",
    "\n",
    "    activations = forward_pass(data_point, weights, biases)\n",
    "    grads = backward_pass(activations, label_onehot, weights, biases)\n",
    "    # Define the output file path\n",
    "    output_gradient = './Assignment_1/Answer/b/dw-' + file_path\n",
    "    # Define the output file path\n",
    "    output_bias = './Assignment_1/Answer/b/db-' + file_path\n",
    "\n",
    "    save_file(grads, output_gradient, output_bias)"
   ]
  },
  {
   "cell_type": "code",
   "execution_count": 55,
   "metadata": {},
   "outputs": [],
   "source": [
    "# Define the layers dimensions\n",
    "layers_dims = [14, 100, 40, 4]\n",
    "test1file = '100-40-4.csv'\n",
    "\n",
    "run(layers_dims, test1file)"
   ]
  },
  {
   "cell_type": "code",
   "execution_count": 56,
   "metadata": {},
   "outputs": [],
   "source": [
    "layers_dims = [14, 28, 28, 28, 28, 28, 28, 4]\n",
    "test2file = '28-6-4.csv'\n",
    "\n",
    "run(layers_dims, test2file)"
   ]
  },
  {
   "cell_type": "code",
   "execution_count": 57,
   "metadata": {},
   "outputs": [],
   "source": [
    "layers_dims = [14 for i in range(29)]\n",
    "layers_dims.append(4)\n",
    "test3file = '14-28-4.csv'\n",
    "run(layers_dims, test3file)"
   ]
  },
  {
   "cell_type": "code",
   "execution_count": 58,
   "metadata": {},
   "outputs": [
    {
     "name": "stdout",
     "output_type": "stream",
     "text": [
      "Done\n"
     ]
    }
   ],
   "source": [
    "print(\"Done\")"
   ]
  },
  {
   "cell_type": "markdown",
   "metadata": {},
   "source": [
    "# Task 2"
   ]
  },
  {
   "cell_type": "code",
   "execution_count": 37,
   "metadata": {},
   "outputs": [],
   "source": [
    "x_train = np.loadtxt('./Assignment_1/Task_2/x_train.csv', delimiter=',')\n",
    "x_test = np.loadtxt('./Assignment_1/Task_2/x_test.csv', delimiter=',')\n",
    "y_train = np.loadtxt('./Assignment_1/Task_2/y_train.csv', delimiter=',')\n",
    "y_test = np.loadtxt('./Assignment_1/Task_2/y_test.csv', delimiter=',')"
   ]
  },
  {
   "cell_type": "code",
   "execution_count": 38,
   "metadata": {},
   "outputs": [],
   "source": [
    "y_train = y_train.astype(int)  # Convert to integer type\n",
    "y_test = y_test.astype(int)    # Convert to integer type\n",
    "\n",
    "y_train_onehot = np.eye(4)[y_train.reshape(-1)].astype(np.float32)  # One-hot encoding of labels\n",
    "y_test_onehot = np.eye(4)[y_test.reshape(-1)].astype(np.float32)    # One-hot encoding of labels"
   ]
  },
  {
   "cell_type": "code",
   "execution_count": 39,
   "metadata": {},
   "outputs": [],
   "source": [
    "def compute_cost(AL, Y):\n",
    "    \"\"\"\n",
    "    Compute the cross-entropy cost.\n",
    "\n",
    "    Arguments:\n",
    "    AL -- probability vector corresponding to your label predictions, shape (number of examples, number of classes)\n",
    "    Y -- true \"label\" vector (e.g., one-hot encoded), shape (number of examples, number of classes)\n",
    "\n",
    "    Returns:\n",
    "    cost -- cross-entropy cost\n",
    "    \"\"\"\n",
    "    \n",
    "    m = Y.shape[0]  # Number of examples\n",
    "    \n",
    "    # Compute cross-entropy loss\n",
    "    epsilon = 1e-7  # Small constant to avoid division by zero and logarithm of zero\n",
    "    AL = np.clip(AL, epsilon, 1 - epsilon)  # Clip values to avoid numerical instability\n",
    "    \n",
    "    # Compute the cost\n",
    "    cost = -1 / m * np.sum(Y * np.log(AL + epsilon) + (1 - Y) * np.log(1 - AL + epsilon))\n",
    "    \n",
    "    # Ensure cost is a scalar (e.g., shape ())\n",
    "    cost = np.squeeze(cost)\n",
    "    \n",
    "    return cost"
   ]
  },
  {
   "cell_type": "code",
   "execution_count": 40,
   "metadata": {},
   "outputs": [],
   "source": [
    "def compute_accuracy(predicted_labels, true_labels):\n",
    "    \"\"\"\n",
    "    Compute the accuracy of predicted labels compared to true labels.\n",
    "\n",
    "    Arguments:\n",
    "    predicted_labels -- array of predicted labels, shape (number of examples, number of classes)\n",
    "    true_labels -- array of true labels, shape (number of examples, number of classes)\n",
    "\n",
    "    Returns:\n",
    "    accuracy -- the accuracy as a percentage\n",
    "    \"\"\"\n",
    "    \n",
    "    # Compare predicted labels to true labels and count correct predictions\n",
    "    correct_predictions = np.sum(np.argmax(predicted_labels, axis=1) == np.argmax(true_labels, axis=1))\n",
    "    \n",
    "    # Calculate accuracy as a percentage\n",
    "    accuracy = (correct_predictions / true_labels.shape[0]) * 100.0\n",
    "    \n",
    "    return accuracy\n"
   ]
  },
  {
   "cell_type": "code",
   "execution_count": 41,
   "metadata": {},
   "outputs": [
    {
     "ename": "NameError",
     "evalue": "name 'num_iterations' is not defined",
     "output_type": "error",
     "traceback": [
      "\u001b[1;31m---------------------------------------------------------------------------\u001b[0m",
      "\u001b[1;31mNameError\u001b[0m                                 Traceback (most recent call last)",
      "Cell \u001b[1;32mIn[41], line 54\u001b[0m\n\u001b[0;32m     51\u001b[0m weights \u001b[39m=\u001b[39m \u001b[39mlist\u001b[39m(load_weights(layers_dims, \u001b[39m'\u001b[39m\u001b[39m./Assignment_1/Task_1/a/w.csv\u001b[39m\u001b[39m'\u001b[39m))\n\u001b[0;32m     52\u001b[0m biases \u001b[39m=\u001b[39m \u001b[39mlist\u001b[39m(load_biases(layers_dims, \u001b[39m'\u001b[39m\u001b[39m./Assignment_1/Task_1/a/b.csv\u001b[39m\u001b[39m'\u001b[39m))\n\u001b[1;32m---> 54\u001b[0m costs, train_accuracies, test_accuracies \u001b[39m=\u001b[39m train_neural_network(x_train, y_train_onehot, x_test, y_test_onehot, lr, num_iterations, weights, biases)\n\u001b[0;32m     55\u001b[0m results[lr] \u001b[39m=\u001b[39m {\u001b[39m'\u001b[39m\u001b[39mcosts\u001b[39m\u001b[39m'\u001b[39m: costs, \u001b[39m'\u001b[39m\u001b[39mtrain_accuracies\u001b[39m\u001b[39m'\u001b[39m: train_accuracies, \u001b[39m'\u001b[39m\u001b[39mtest_accuracies\u001b[39m\u001b[39m'\u001b[39m: test_accuracies}\n",
      "\u001b[1;31mNameError\u001b[0m: name 'num_iterations' is not defined"
     ]
    }
   ],
   "source": [
    "# Training loop\n",
    "def train_neural_network(x_train, y_train, x_test, y_test, learning_rate, num_iterations, weights, biases):\n",
    "\n",
    "    costs = []\n",
    "    train_accuracies = []\n",
    "    test_accuracies = []\n",
    "\n",
    "    for i in range(num_iterations):\n",
    "        # Forward propagation\n",
    "        activations = forward_pass(x_train, weights, biases)    \n",
    " \n",
    "        # Compute cost\n",
    "        cost = compute_cost(activations[-1], y_train.T)\n",
    "        costs.append(cost)      \n",
    "        # Backpropagation\n",
    "        grads = backward_pass(activations, y_train, weights, biases) \n",
    "        # Update weights and biases using gradient descent\n",
    "        for layer in range(len(weights)):\n",
    "            biases[layer].reshape(-1, 1)\n",
    "            weights[layer] -= (learning_rate * grads[layer][0].T)            \n",
    "            biases[layer] -= (learning_rate * grads[layer][1].T)\n",
    "        \n",
    "        # Calculate training accuracy\n",
    "        train_accuracy = compute_accuracy(activations[-1], y_train)\n",
    "        train_accuracies.append(train_accuracy)\n",
    "        \n",
    "        # Forward propagation on test data\n",
    "        test_activations = forward_pass(x_test, weights, biases)\n",
    "        \n",
    "        # Calculate test accuracy\n",
    "        test_accuracy = compute_accuracy(test_activations[-1], y_test)\n",
    "        test_accuracies.append(test_accuracy)\n",
    "        \n",
    "        if i % 100 == 0:\n",
    "            print(f\"Iteration {i}, Cost: {cost}, Train Accuracy: {train_accuracy}, Test Accuracy: {test_accuracy}\")\n",
    "    \n",
    "    return costs, train_accuracies, test_accuracies\n",
    "\n",
    "\n",
    "# Initialize weights and biases (you should load them as in your original code)\n",
    "# Define the layers dimensions\n",
    "layers_dims = [14, 100, 40, 4]\n",
    "\n",
    "# Define the learning rates to test\n",
    "learning_rates = [1, 0.1, 0.001]\n",
    "\n",
    "results = {}\n",
    "\n",
    "for lr in learning_rates:\n",
    "    # Reset weights and biases here if needed\n",
    "    weights = list(load_weights(layers_dims, './Assignment_1/Task_1/a/w.csv'))\n",
    "    biases = list(load_biases(layers_dims, './Assignment_1/Task_1/a/b.csv'))\n",
    "    \n",
    "    costs, train_accuracies, test_accuracies = train_neural_network(x_train, y_train_onehot, x_test, y_test_onehot, lr, num_iterations, weights, biases)\n",
    "    results[lr] = {'costs': costs, 'train_accuracies': train_accuracies, 'test_accuracies': test_accuracies}"
   ]
  },
  {
   "cell_type": "code",
   "execution_count": null,
   "metadata": {},
   "outputs": [
    {
     "data": {
      "image/png": "[encoded data removed]",
      "text/plain": [
       "<Figure size 864x288 with 2 Axes>"
      ]
     },
     "metadata": {
      "needs_background": "light"
     },
     "output_type": "display_data"
    }
   ],
   "source": [
    "from matplotlib import pyplot as plt\n",
    "\n",
    "# Plot the results\n",
    "for lr, result in results.items():\n",
    "    plt.figure(figsize=(12, 4))\n",
    "    \n",
    "    plt.subplot(1, 3, 1)\n",
    "    plt.plot(result['costs'])\n",
    "    plt.title(f'Training Cost (LR = {lr})')\n",
    "    plt.xlabel('Iterations')\n",
    "    plt.ylabel('Cost')\n",
    "    \n",
    "    plt.subplot(1, 3, 2)\n",
    "    plt.plot(result['train_accuracies'], label='Train')\n",
    "    plt.plot(result['test_accuracies'], label='Test')\n",
    "    plt.title(f'Train and Test Accuracy (LR = {lr})')\n",
    "    plt.xlabel('Iterations')\n",
    "    plt.ylabel('Accuracy')\n",
    "    plt.legend()\n",
    "    \n",
    "    plt.tight_layout()\n",
    "    plt.show()"
   ]
  }
 ],
 "metadata": {
  "kernelspec": {
   "display_name": "python3-6",
   "language": "python",
   "name": "python3"
  },
  "language_info": {
   "codemirror_mode": {
    "name": "ipython",
    "version": 3
   },
   "file_extension": ".py",
   "mimetype": "text/x-python",
   "name": "python",
   "nbconvert_exporter": "python",
   "pygments_lexer": "ipython3",
   "version": "3.10.11"
  },
  "orig_nbformat": 4
 },
 "nbformat": 4,
 "nbformat_minor": 2
}
